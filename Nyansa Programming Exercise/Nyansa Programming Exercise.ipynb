{
 "cells": [
  {
   "cell_type": "code",
   "execution_count": 1,
   "metadata": {},
   "outputs": [],
   "source": [
    "import pytz\n",
    "from datetime import datetime"
   ]
  },
  {
   "cell_type": "code",
   "execution_count": 2,
   "metadata": {},
   "outputs": [],
   "source": [
    "file1 = open('input.txt', 'r')\n",
    "Lines = file1.readlines()"
   ]
  },
  {
   "cell_type": "code",
   "execution_count": 3,
   "metadata": {},
   "outputs": [],
   "source": [
    "output={}"
   ]
  },
  {
   "cell_type": "code",
   "execution_count": 4,
   "metadata": {},
   "outputs": [],
   "source": [
    "for line in Lines:\n",
    "    time,site = line.split('|')\n",
    "    time = datetime.utcfromtimestamp(int(time)).strftime(\"%m/%d/%y\")\n",
    "    site=site.rstrip()\n",
    "    if time in output:\n",
    "        if site in output[time]:\n",
    "            output[time][site] += 1\n",
    "        else:\n",
    "            output[time][site] = 1\n",
    "    else:\n",
    "        output[time] = {site:1}\n",
    "    \n"
   ]
  },
  {
   "cell_type": "code",
   "execution_count": 5,
   "metadata": {},
   "outputs": [
    {
     "name": "stdout",
     "output_type": "stream",
     "text": [
      "08/08/14 GMT\n",
      "www.facebook.com 2\n",
      "news.ycombinator.com 1\n",
      "www.google.com 2\n",
      "08/09/14 GMT\n",
      "www.nba.com 3\n",
      "sports.yahoo.com 2\n",
      "www.cnn.com 1\n",
      "08/10/14 GMT\n",
      "www.twitter.com 1\n"
     ]
    }
   ],
   "source": [
    "gmt = pytz.timezone('GMT')\n",
    "for time in sorted(output):\n",
    "    print(time,gmt)\n",
    "    for val in output[time]:\n",
    "        print(val,output[time][val])\n"
   ]
  },
  {
   "cell_type": "code",
   "execution_count": null,
   "metadata": {},
   "outputs": [],
   "source": []
  }
 ],
 "metadata": {
  "kernelspec": {
   "display_name": "Python 3",
   "language": "python",
   "name": "python3"
  },
  "language_info": {
   "codemirror_mode": {
    "name": "ipython",
    "version": 3
   },
   "file_extension": ".py",
   "mimetype": "text/x-python",
   "name": "python",
   "nbconvert_exporter": "python",
   "pygments_lexer": "ipython3",
   "version": "3.8.5"
  }
 },
 "nbformat": 4,
 "nbformat_minor": 4
}
